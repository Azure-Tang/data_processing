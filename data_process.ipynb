{
 "cells": [
  {
   "cell_type": "markdown",
   "metadata": {},
   "source": [
    "# 数据处理脚本\n",
    "\n",
    "调用bge—m3和langchain的数据处理脚本，将数据处理成模型训练所需的格式。\n",
    "输入\n",
    "- input_dir: 数据集目录\n",
    "- output_dir: 输出目录\n",
    "- tokenizer_dir: 分词器目录\n",
    "- 输出格式\n",
    "```json\n",
    "[\n",
    "    {\n",
    "        \"content\": \"text\",\n",
    "        \"start\": 0,\n",
    "        \"end\": 10,\n",
    "        \"dense\": \"matrix\",\n",
    "        \"sparse\": \"matrix\",\n",
    "        \"vecs\": \"matrix\"\n",
    "    }\n",
    "]\n",
    "```"
   ]
  },
  {
   "cell_type": "code",
   "execution_count": 23,
   "metadata": {},
   "outputs": [],
   "source": [
    "from pathlib import Path\n",
    "import os\n",
    "import sys\n",
    "import re\n",
    "import json\n",
    "# import nbimporter\n",
    "from sentence_splitor import ChineseRecursiveTextSplitter\n",
    "import pickle\n",
    "from transformers import AutoTokenizer\n",
    "from FlagEmbedding import BGEM3FlagModel\n",
    "# from find_corresponding_token_start_end import find_text_indices, read_lookup_table\n",
    "\n",
    "data_input_dir = Path('./raw_datas/3body') # 三体书\n",
    "data_output_dir = Path('./bgem3_output') # 映射表存放位置\n",
    "tokenizer_dir = Path('../internlm2-7B') \n",
    "tokenized_book_prompt_dir = Path('./output_datas/tokenized_3body_without_prompt') # 三体书分词后的存放位置\n",
    "tokenized_book_prompt_file = tokenized_book_prompt_dir / 'tokenized_3body.txt'\n",
    "chunk_size = 250\n",
    "chunk_overlap = 50\n",
    "# check not exist then create\n",
    "if not data_output_dir.exists():\n",
    "    data_output_dir.mkdir()\n",
    "if not tokenizer_dir.exists(): \n",
    "    raise Exception('tokenizer not found')\n",
    "if not data_input_dir.exists():\n",
    "    raise Exception('input_data not found')\n",
    "if not tokenized_book_prompt_dir.exists():\n",
    "    raise Exception('tokenized_book_prompt_dir not found')"
   ]
  },
  {
   "cell_type": "code",
   "execution_count": 24,
   "metadata": {},
   "outputs": [],
   "source": [
    "template ={\n",
    "        \"content\": \"text\",\n",
    "        \"start\": 0,\n",
    "        \"end\": 10,\n",
    "        \"dense_vecs\": \"matrix\",\n",
    "        \"lexical_weights\": \"matrix\",\n",
    "        \"colbert_vecs\": \"matrix\"\n",
    "    }"
   ]
  },
  {
   "cell_type": "code",
   "execution_count": 25,
   "metadata": {},
   "outputs": [],
   "source": [
    "proxy = 'http://127.0.0.1:20171'\n",
    "os.environ['http_proxy'] = proxy\n",
    "os.environ['HTTP_PROXY'] = proxy\n",
    "os.environ['https_proxy'] = proxy\n",
    "os.environ['HTTPS_PROXY'] = proxy\n",
    "os.environ['all_proxy'] = proxy\n",
    "os.environ['TRANSFORMERS_CACHE'] = './bgem3'"
   ]
  },
  {
   "cell_type": "code",
   "execution_count": 26,
   "metadata": {},
   "outputs": [],
   "source": [
    "from transformers import AutoModel, AutoTokenizer\n",
    "\n",
    "# 模型名称\n",
    "model_name = \"BAAI/bge-m3\"\n",
    "cache_directory = \"../bgem3\"\n",
    "# 加载分词器\n",
    "tokenizer = AutoTokenizer.from_pretrained(model_name)\n",
    "\n",
    "# 加载模型\n",
    "model = AutoModel.from_pretrained(cache_directory)"
   ]
  },
  {
   "cell_type": "code",
   "execution_count": 27,
   "metadata": {},
   "outputs": [
    {
     "data": {
      "text/plain": [
       "('../bgem3/tokenizer_config.json',\n",
       " '../bgem3/special_tokens_map.json',\n",
       " '../bgem3/sentencepiece.bpe.model',\n",
       " '../bgem3/added_tokens.json',\n",
       " '../bgem3/tokenizer.json')"
      ]
     },
     "execution_count": 27,
     "metadata": {},
     "output_type": "execute_result"
    }
   ],
   "source": [
    "model.save_pretrained(cache_directory)\n",
    "tokenizer.save_pretrained(cache_directory)"
   ]
  },
  {
   "cell_type": "code",
   "execution_count": null,
   "metadata": {},
   "outputs": [],
   "source": []
  },
  {
   "cell_type": "code",
   "execution_count": 28,
   "metadata": {},
   "outputs": [
    {
     "name": "stdout",
     "output_type": "stream",
     "text": [
      "----------using 8*GPUs----------\n"
     ]
    }
   ],
   "source": [
    "tokenizer = AutoTokenizer.from_pretrained(tokenizer_dir, trust_remote_code=True)\n",
    "text_splitter = ChineseRecursiveTextSplitter(\n",
    "    keep_separator=True,\n",
    "    is_separator_regex=True,\n",
    "    chunk_size=chunk_size,\n",
    "    chunk_overlap=chunk_overlap\n",
    ")\n",
    "model = BGEM3FlagModel(cache_directory,  use_fp16=True) # Setting use_fp16 to True speeds up computation with a slight performance degradation"
   ]
  },
  {
   "cell_type": "code",
   "execution_count": 29,
   "metadata": {},
   "outputs": [],
   "source": [
    "def read_lookup_table(file_path):\n",
    "    lookup_table = []\n",
    "    # 定义正则表达式来匹配 idx, token_id, 和可能跨越多行的 token_string\n",
    "    pattern = re.compile(r\"(\\d+),\\s*(\\d+),\\s*'((?:[^']|'(?!$))*)'\", re.MULTILINE)\n",
    "    with open(file_path, \"r\", encoding=\"utf-8\") as file:\n",
    "        content = file.read()\n",
    "        # 使用正则表达式匹配所有行\n",
    "        matches = pattern.findall(content)\n",
    "        for match in matches:\n",
    "            idx, token_id, token_string = match\n",
    "            # 替换代表换行符的单引号\n",
    "            token_string = token_string.replace(\"\\n'\", \"\\n\")\n",
    "            lookup_table.append((int(idx), int(token_id), token_string))\n",
    "    cat_text = \"\"\n",
    "    position_idx_record = [] # 记录每个char在lookup_table中的idx\n",
    "    for idx, _, token_string in lookup_table:\n",
    "        cat_text += token_string\n",
    "        position_idx_record+=[idx]*len(token_string)\n",
    "    return lookup_table, cat_text, position_idx_record\n",
    "\n",
    "def find_text_indices(text, lookup_table, cat_text, position_idx_record, n=20):\n",
    "    # 取巧只匹配段落的前20个和后20个字符来定位整段的位置\n",
    "    # 初始化 start_idx 和 end_idx 为 None\n",
    "    start_idx = end_idx = None\n",
    "    # # cat lookup_table[3][:]\n",
    "    # cat_text = \"\"\n",
    "    # position_idx_record = [] # 记录每个char在lookup_table中的idx\n",
    "    # for idx, _, token_string in lookup_table:\n",
    "    #     cat_text += token_string\n",
    "    #     position_idx_record+=[idx]*len(token_string)\n",
    "\n",
    "    # 通过头，尾各取20个字符，查找text在cat_text中的位置\n",
    "    start_txt = text[:n]\n",
    "    end_txt = text[-n:]\n",
    "\n",
    "    start_idx = cat_text.find(start_txt)\n",
    "    # 如果直接搜索失败，则尝试使用正则表达式搜索\n",
    "    if start_idx == -1:\n",
    "        target_regex = re.compile(\".{0,10}\".join(map(re.escape, text)), re.DOTALL)\n",
    "        match = target_regex.search(cat_text)\n",
    "        if match:\n",
    "            start_idx = match.start()\n",
    "    \n",
    "    end_idx = cat_text.find(end_txt) + len(end_txt) - 1\n",
    "    # 如果直接搜索失败，则尝试使用正则表达式搜索\n",
    "    if end_idx == -1:\n",
    "        target_regex = re.compile(\".{0,10}\".join(map(re.escape, text)), re.DOTALL)\n",
    "        match = target_regex.search(cat_text)\n",
    "        if match:\n",
    "            end_idx = match.end()\n",
    "    \n",
    "    if start_idx != -1 and end_idx != -1:\n",
    "        start_idx = position_idx_record[start_idx]\n",
    "        end_idx = position_idx_record[end_idx]\n",
    "\n",
    "        return start_idx, end_idx\n",
    "\n",
    "    else:\n",
    "        # raise Exception(f\"Failed to find text: {text[:10]}\")\n",
    "        print(f\"Failed to find text: {text[:10]}\")\n",
    "        return text, None\n",
    "\n",
    "# def get_text_and_pos_from_lookup_table(lookup_table, start, end):\n",
    "#     cat_text = \"\"\n",
    "#     for idx, _, token_string in lookup_table:\n",
    "#         cat_text += token_string\n",
    "#         position_idx_record+=[idx]*len(token_string)\n",
    "    "
   ]
  },
  {
   "cell_type": "code",
   "execution_count": 30,
   "metadata": {},
   "outputs": [
    {
     "name": "stdout",
     "output_type": "stream",
     "text": [
      "Failed to find text: 荒原依旧，但V装具感\n"
     ]
    }
   ],
   "source": [
    "# walk through all files in input_data\n",
    "for root, dirs, files in os.walk(data_input_dir):\n",
    "    for file in files:\n",
    "        if file.endswith('.txt'):\n",
    "            with open(Path(root) / file, 'r', encoding='utf-8') as f:\n",
    "                text = f.read()\n",
    "                # split text into chunks\n",
    "                look_up_table, cat_text, position_idx_record = read_lookup_table(tokenized_book_prompt_file)\n",
    "                processed_chunk_list = []\n",
    "                not_found_list = []\n",
    "                chunks = text_splitter.split_text(text)\n",
    "                for i, chunk in enumerate(chunks):\n",
    "                    meta = template.copy()\n",
    "                    start, end = find_text_indices(chunk, look_up_table, cat_text, position_idx_record)\n",
    "                    if end == None:\n",
    "                        not_found_list.append(chunk)\n",
    "                        continue\n",
    "                    output = model.encode(chunk, return_dense=True, return_sparse=True, return_colbert_vecs=True)\n",
    "                    meta['content'] = chunk\n",
    "                    meta['start'] = start\n",
    "                    meta['end'] = end\n",
    "                    meta['dense_vecs'] = output['dense_vecs']\n",
    "                    meta['lexical_weights'] = output['lexical_weights'] # sparse_vecs is the same as lexical_weights\n",
    "                    meta['colbert_vecs'] = output['colbert_vecs']\n",
    "                    meta['idx'] = i\n",
    "                    meta['doc'] = file\n",
    "                    processed_chunk_list.append(meta)\n",
    "            # save to pickle\n",
    "            with open(data_output_dir / f'{file[:-4]}.pkl', 'wb') as f:\n",
    "                pickle.dump(processed_chunk_list, f)\n",
    "            \n",
    "            with open(data_output_dir / 'not_found.txt', 'w', encoding='utf-8') as f:\n",
    "                for chunk in not_found_list:\n",
    "                    f.write(chunk + '\\n')\n",
    "                    \n"
   ]
  },
  {
   "cell_type": "code",
   "execution_count": 31,
   "metadata": {},
   "outputs": [],
   "source": [
    "# tokenize the book and store the tokenized book prompt\n",
    "for root, dirs, files in os.walk(data_input_dir):\n",
    "    for file in files:\n",
    "        if file.endswith('.txt'):\n",
    "            with open(Path(root) / file, 'r', encoding='utf-8') as f:\n",
    "                text = f.read()\n",
    "                encoded_input = tokenizer(text, return_tensors='pt', add_special_tokens=False)\n",
    "                token_ids = encoded_input['input_ids'][0]\n",
    "                tokens = [tokenizer.decode([token_id]) for token_id in token_ids]\n",
    "\n",
    "            with open(tokenized_book_prompt_file , 'w', encoding='utf-8') as file:\n",
    "                for i, (token_id, token) in enumerate(zip(token_ids, tokens)):\n",
    "                    file.write(f\"{i}, {token_id}, '{token}'\\n\")"
   ]
  },
  {
   "cell_type": "code",
   "execution_count": 33,
   "metadata": {},
   "outputs": [
    {
     "name": "stdout",
     "output_type": "stream",
     "text": [
      "dict_keys(['content', 'start', 'end', 'dense_vecs', 'lexical_weights', 'colbert_vecs', 'idx'])\n"
     ]
    }
   ],
   "source": [
    "# read the pickled files\n",
    "with open(data_output_dir / f'3body.pkl', 'rb') as f:\n",
    "    data = pickle.load(f)\n",
    "    print(data[0].keys())"
   ]
  }
 ],
 "metadata": {
  "kernelspec": {
   "display_name": "base",
   "language": "python",
   "name": "python3"
  },
  "language_info": {
   "codemirror_mode": {
    "name": "ipython",
    "version": 3
   },
   "file_extension": ".py",
   "mimetype": "text/x-python",
   "name": "python",
   "nbconvert_exporter": "python",
   "pygments_lexer": "ipython3",
   "version": "3.10.13"
  }
 },
 "nbformat": 4,
 "nbformat_minor": 2
}
